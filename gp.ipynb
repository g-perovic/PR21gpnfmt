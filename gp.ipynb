{
 "cells": [
  {
   "cell_type": "code",
   "execution_count": 2,
   "id": "ddf65f55",
   "metadata": {},
   "outputs": [],
   "source": [
    "import matplotlib\n",
    "import matplotlib.pyplot as plt\n",
    "import numpy as np\n",
    "\n",
    "\n",
    "import pandas as pd"
   ]
  },
  {
   "cell_type": "code",
   "execution_count": 4,
   "id": "d1c86499",
   "metadata": {},
   "outputs": [],
   "source": [
    "podatki = pd.read_csv(\"podatki.csv\", delimiter=\";\", low_memory=False)\n",
    "podatki[\"DATUM_PRVE_REGISTRACIJE\"] = pd.to_datetime(podatki[\"DATUM_PRVE_REGISTRACIJE\"], infer_datetime_format=True)\n",
    "podatki[\"DATUM_PRVE_REGISTRACIJE_SLO\"] = pd.to_datetime(podatki[\"DATUM_PRVE_REGISTRACIJE_SLO\"], infer_datetime_format=True)\n",
    "podatki[\"DATUM_PREGLEDA\"] = pd.to_datetime(podatki[\"DATUM_PREGLEDA\"], infer_datetime_format=True)"
   ]
  },
  {
   "cell_type": "code",
   "execution_count": 13,
   "id": "2f662971",
   "metadata": {},
   "outputs": [
    {
     "data": {
      "text/plain": [
       "ZNAMKA                                 object\n",
       "TOVARNISKA_OZNAKA                      object\n",
       "KOMERCIALNA_OZNAKA                     object\n",
       "KOMERCIALNI_TIP                        object\n",
       "VIN                                    object\n",
       "VIN_TRAKTORJA                          object\n",
       "KATEGORIJA_OZNAKA                      object\n",
       "KATEGORIJA_OPIS                        object\n",
       "NADGRADNJA_OZNAKA                      object\n",
       "NADGRADNJA_OPIS                        object\n",
       "DODATNA_NADGRADNJA_OPIS                object\n",
       "VRSTA_GORIVA_OZNAKA                    object\n",
       "VRSTA_GORIVA_OPIS                      object\n",
       "NAMEN_VOZILA                           object\n",
       "DATUM_PRVE_REGISTRACIJE        datetime64[ns]\n",
       "DATUM_PRVE_REGISTRACIJE_SLO    datetime64[ns]\n",
       "PREVOZENI_KILOMETRI                   float64\n",
       "LASTNIK_VOZILA                         object\n",
       "UPORABNIK_VOZILA                       object\n",
       "DATUM_PREGLEDA                 datetime64[ns]\n",
       "TEHNICNI_ZAPISNIK_RAZLOG               object\n",
       "TEHNICNI_PREGLED_STATUS                object\n",
       "VELJA_OD                               object\n",
       "VELJA_DO                               object\n",
       "IZVAJALNA_ENOTA_OPIS                   object\n",
       "dtype: object"
      ]
     },
     "execution_count": 13,
     "metadata": {},
     "output_type": "execute_result"
    }
   ],
   "source": [
    "podatki.dtypes"
   ]
  },
  {
   "cell_type": "markdown",
   "id": "98d2eb83",
   "metadata": {},
   "source": [
    "### Poprava znamk"
   ]
  },
  {
   "cell_type": "code",
   "execution_count": 5,
   "id": "7e9ca5a1",
   "metadata": {},
   "outputs": [],
   "source": [
    "#df['column name'] = df['column name'].replace(['old value'],'new value')\n",
    "podatki[\"ZNAMKA\"] = podatki[\"ZNAMKA\"].replace(['MERCEDES BENZ'], 'MERCEDES-BENZ')\n",
    "podatki[\"ZNAMKA\"] = podatki[\"ZNAMKA\"].replace(['VOLKSWAGEN, VW'], 'VOLKSWAGEN')"
   ]
  },
  {
   "cell_type": "markdown",
   "id": "6805371c",
   "metadata": {},
   "source": [
    "## Števila osebnih avtomobilov po znamkah"
   ]
  },
  {
   "cell_type": "code",
   "execution_count": 39,
   "id": "e3090812",
   "metadata": {},
   "outputs": [],
   "source": [
    "podatkiOsebnaVozila = podatki[podatki[\"KATEGORIJA_OPIS\"] == \"osebni avtomobil\"]\n",
    "countZnamkeOsebnihVozil = podatkiOsebnaVozila.groupby(\"ZNAMKA\")[\"ZNAMKA\"].count()"
   ]
  },
  {
   "cell_type": "code",
   "execution_count": 44,
   "id": "aa22ebe4",
   "metadata": {},
   "outputs": [],
   "source": [
    "dictCount = countZnamkeOsebnihVozil.to_dict()\n",
    "dictCount = dict(sorted(dictCount.items(),reverse=True, key=lambda item: item[1]))"
   ]
  },
  {
   "cell_type": "code",
   "execution_count": 45,
   "id": "bf3eec2c",
   "metadata": {},
   "outputs": [],
   "source": [
    "for key in list(dictCount.keys()):\n",
    "    if(dictCount[key] < 50):\n",
    "        del dictCount[key]\n",
    "\n",
    "keysCount = dictCount.keys()\n",
    "valuesCount = list(dictCount.values())"
   ]
  },
  {
   "cell_type": "code",
   "execution_count": 46,
   "id": "f1ea1b10",
   "metadata": {},
   "outputs": [
    {
     "data": {
      "text/plain": [
       "['RENAULT (30542)',\n",
       " 'VOLKSWAGEN (25250)',\n",
       " 'OPEL (13021)',\n",
       " 'CITROEN (12148)',\n",
       " 'PEUGEOT (11483)',\n",
       " 'FORD (7902)',\n",
       " 'AUDI (7249)',\n",
       " 'FIAT (6911)',\n",
       " 'TOYOTA (6344)',\n",
       " 'HYUNDAI (5349)',\n",
       " 'BMW (5055)',\n",
       " 'ŠKODA (4957)',\n",
       " 'MERCEDES-BENZ (4841)',\n",
       " 'SEAT (4259)',\n",
       " 'HONDA (3189)',\n",
       " 'KIA (2750)',\n",
       " 'MAZDA (2587)',\n",
       " 'NISSAN (2543)',\n",
       " 'SUZUKI (2304)',\n",
       " 'CHEVROLET (1940)',\n",
       " 'VOLVO (1713)',\n",
       " 'MITSUBISHI (1318)',\n",
       " 'ALFA ROMEO (872)',\n",
       " 'DAEWOO (686)',\n",
       " 'SUBARU (518)',\n",
       " 'LAND ROVER (446)',\n",
       " 'ZASTAVA (428)',\n",
       " 'DACIA (292)',\n",
       " 'JEEP (280)',\n",
       " 'LANCIA (270)',\n",
       " 'SAAB (197)',\n",
       " 'CHRYSLER (192)',\n",
       " 'MINI (192)',\n",
       " 'PORSCHE (152)',\n",
       " 'FIAT-ADRIA (145)',\n",
       " 'SMART (134)',\n",
       " 'CITROËN (129)',\n",
       " 'UNIS (127)',\n",
       " 'ROVER (116)',\n",
       " 'DAIHATSU (113)',\n",
       " 'JAGUAR (111)',\n",
       " 'LADA (106)',\n",
       " 'SSANGYONG (101)',\n",
       " 'LEXUS (68)',\n",
       " 'DODGE (66)',\n",
       " 'IMV (59)',\n",
       " 'CIMOS (54)']"
      ]
     },
     "execution_count": 46,
     "metadata": {},
     "output_type": "execute_result"
    }
   ],
   "source": [
    "k = list()\n",
    "\n",
    "for key in keysCount:\n",
    "    k.append(str(key) + \" (\" + str(dictCount[key]) + \")\" )\n",
    "    \n",
    "k"
   ]
  },
  {
   "cell_type": "code",
   "execution_count": 47,
   "id": "7e6c3d27",
   "metadata": {
    "scrolled": true
   },
   "outputs": [
    {
     "data": {
      "text/plain": [
       "<function matplotlib.pyplot.show(close=None, block=None)>"
      ]
     },
     "execution_count": 47,
     "metadata": {},
     "output_type": "execute_result"
    },
    {
     "data": {
      "image/png": "[encoded data removed]",
      "text/plain": [
       "<Figure size 1008x576 with 1 Axes>"
      ]
     },
     "metadata": {
      "needs_background": "light"
     },
     "output_type": "display_data"
    }
   ],
   "source": [
    "fig = plt.figure(figsize=(14,8))\n",
    "plt.bar(k, valuesCount)\n",
    "plt.xticks(rotation = 90)\n",
    "plt.xlabel(\"Znamke\")\n",
    "plt.ylabel(\"Število osebnih avtomobilov\")\n",
    "plt.title(\"Število osebnih avtomobilov glede na Znamko\")\n",
    "plt.show"
   ]
  },
  {
   "cell_type": "markdown",
   "id": "d4796197",
   "metadata": {},
   "source": [
    "## Odstotek brezhibno opravljenih Tehničnih pregledov osebnih avtomobilov po znamkah"
   ]
  },
  {
   "cell_type": "code",
   "execution_count": 49,
   "id": "11ca9575",
   "metadata": {},
   "outputs": [],
   "source": [
    "podatkiOsebnaVozila = podatki[podatki[\"KATEGORIJA_OPIS\"] == \"osebni avtomobil\"]\n",
    "p1 = podatkiOsebnaVozila[podatkiOsebnaVozila[\"TEHNICNI_PREGLED_STATUS\"] == \"brezhiben\"].groupby(\"ZNAMKA\")[\"ZNAMKA\"].count()"
   ]
  },
  {
   "cell_type": "code",
   "execution_count": 50,
   "id": "694d7560",
   "metadata": {},
   "outputs": [],
   "source": [
    "p2 = podatkiOsebnaVozila.groupby(\"ZNAMKA\")[\"ZNAMKA\"].count()\n",
    "p2 = p2.to_dict()\n",
    "\n",
    "for key in list(p2.keys()):\n",
    "    if(p2[key] < 50):\n",
    "        del p2[key]"
   ]
  },
  {
   "cell_type": "code",
   "execution_count": 51,
   "id": "2a8aa20b",
   "metadata": {},
   "outputs": [],
   "source": [
    "brezhib = dict()\n",
    "for key in p2:\n",
    "    brezhib[key] = p1[key] / p2[key] *100"
   ]
  },
  {
   "cell_type": "markdown",
   "id": "33faebf3",
   "metadata": {},
   "source": [
    "### Deset najbolj brezhibnih znamk"
   ]
  },
  {
   "cell_type": "code",
   "execution_count": 52,
   "id": "2beeafd4",
   "metadata": {},
   "outputs": [
    {
     "data": {
      "text/html": [
       "<div>\n",
       "<style scoped>\n",
       "    .dataframe tbody tr th:only-of-type {\n",
       "        vertical-align: middle;\n",
       "    }\n",
       "\n",
       "    .dataframe tbody tr th {\n",
       "        vertical-align: top;\n",
       "    }\n",
       "\n",
       "    .dataframe thead th {\n",
       "        text-align: right;\n",
       "    }\n",
       "</style>\n",
       "<table border=\"1\" class=\"dataframe\">\n",
       "  <thead>\n",
       "    <tr style=\"text-align: right;\">\n",
       "      <th></th>\n",
       "      <th>Odstotek brezhibnih</th>\n",
       "    </tr>\n",
       "  </thead>\n",
       "  <tbody>\n",
       "    <tr>\n",
       "      <th>CIMOS</th>\n",
       "      <td>92.592593</td>\n",
       "    </tr>\n",
       "    <tr>\n",
       "      <th>ZASTAVA</th>\n",
       "      <td>89.485981</td>\n",
       "    </tr>\n",
       "    <tr>\n",
       "      <th>PORSCHE</th>\n",
       "      <td>84.868421</td>\n",
       "    </tr>\n",
       "    <tr>\n",
       "      <th>FIAT-ADRIA</th>\n",
       "      <td>82.068966</td>\n",
       "    </tr>\n",
       "    <tr>\n",
       "      <th>JAGUAR</th>\n",
       "      <td>81.981982</td>\n",
       "    </tr>\n",
       "    <tr>\n",
       "      <th>IMV</th>\n",
       "      <td>81.355932</td>\n",
       "    </tr>\n",
       "    <tr>\n",
       "      <th>LEXUS</th>\n",
       "      <td>80.882353</td>\n",
       "    </tr>\n",
       "    <tr>\n",
       "      <th>DAIHATSU</th>\n",
       "      <td>80.530973</td>\n",
       "    </tr>\n",
       "    <tr>\n",
       "      <th>LAND ROVER</th>\n",
       "      <td>80.493274</td>\n",
       "    </tr>\n",
       "    <tr>\n",
       "      <th>MERCEDES-BENZ</th>\n",
       "      <td>78.826689</td>\n",
       "    </tr>\n",
       "  </tbody>\n",
       "</table>\n",
       "</div>"
      ],
      "text/plain": [
       "               Odstotek brezhibnih\n",
       "CIMOS                    92.592593\n",
       "ZASTAVA                  89.485981\n",
       "PORSCHE                  84.868421\n",
       "FIAT-ADRIA               82.068966\n",
       "JAGUAR                   81.981982\n",
       "IMV                      81.355932\n",
       "LEXUS                    80.882353\n",
       "DAIHATSU                 80.530973\n",
       "LAND ROVER               80.493274\n",
       "MERCEDES-BENZ            78.826689"
      ]
     },
     "execution_count": 52,
     "metadata": {},
     "output_type": "execute_result"
    }
   ],
   "source": [
    "b = pd.DataFrame.from_dict(brezhib, orient=\"index\")\n",
    "b.columns = [\"Odstotek brezhibnih\"]\n",
    "b.nlargest(10, \"Odstotek brezhibnih\")"
   ]
  },
  {
   "cell_type": "markdown",
   "id": "6fb2e600",
   "metadata": {},
   "source": [
    "## Odstotek brezhibno oprevljenih Tehničnih pregledov po letu prve registracije"
   ]
  },
  {
   "cell_type": "code",
   "execution_count": 34,
   "id": "d5dfe7a7",
   "metadata": {},
   "outputs": [],
   "source": [
    "datumReg = podatki[\"DATUM_PRVE_REGISTRACIJE\"]\n",
    "letoReg = list()\n",
    "\n",
    "for d in datumReg:\n",
    "    if isinstance(d, str):\n",
    "        letoReg.append(d[-4:])"
   ]
  },
  {
   "cell_type": "code",
   "execution_count": 51,
   "id": "d789a342",
   "metadata": {},
   "outputs": [],
   "source": [
    "letoReg = [int(x) for x in letoReg]\n",
    "letoReg = pd.Series(letoReg)"
   ]
  },
  {
   "cell_type": "code",
   "execution_count": 52,
   "id": "90d2641a",
   "metadata": {},
   "outputs": [
    {
     "data": {
      "text/plain": [
       "0         2004.0\n",
       "1         2006.0\n",
       "2         2000.0\n",
       "3         2004.0\n",
       "4         1996.0\n",
       "           ...  \n",
       "229678       NaN\n",
       "229679       NaN\n",
       "229680       NaN\n",
       "229681       NaN\n",
       "229682       NaN\n",
       "Name: LETO_PRVE_REGISTRACIJE, Length: 229683, dtype: float64"
      ]
     },
     "execution_count": 52,
     "metadata": {},
     "output_type": "execute_result"
    }
   ],
   "source": [
    "podatki1 = podatki.copy()\n",
    "podatki1.insert(14,\"LETO_PRVE_REGISTRACIJE\", letoReg)\n",
    "podatki1[\"LETO_PRVE_REGISTRACIJE\"]"
   ]
  },
  {
   "cell_type": "code",
   "execution_count": 54,
   "id": "4420acb6",
   "metadata": {},
   "outputs": [],
   "source": [
    "r1 = podatki1[podatki1[\"TEHNICNI_PREGLED_STATUS\"] == \"brezhiben\"].groupby(\"LETO_PRVE_REGISTRACIJE\")[\"LETO_PRVE_REGISTRACIJE\"].count()"
   ]
  },
  {
   "cell_type": "code",
   "execution_count": 67,
   "id": "1688026c",
   "metadata": {},
   "outputs": [],
   "source": [
    "r2 = podatki1.groupby(\"LETO_PRVE_REGISTRACIJE\")[\"LETO_PRVE_REGISTRACIJE\"].count()\n",
    "r2 = r2.to_dict()\n",
    "\n",
    "for key in list(r2.keys()):\n",
    "    if(r2[key] < 50):\n",
    "        del r2[key]\n",
    "        "
   ]
  },
  {
   "cell_type": "code",
   "execution_count": 69,
   "id": "7dc11016",
   "metadata": {},
   "outputs": [],
   "source": [
    "brezhibL = dict()\n",
    "for key in r2:\n",
    "    brezhibL[key] = r1[key] / r2[key] * 100"
   ]
  },
  {
   "cell_type": "code",
   "execution_count": 72,
   "id": "8dedfe0e",
   "metadata": {},
   "outputs": [
    {
     "data": {
      "text/html": [
       "<div>\n",
       "<style scoped>\n",
       "    .dataframe tbody tr th:only-of-type {\n",
       "        vertical-align: middle;\n",
       "    }\n",
       "\n",
       "    .dataframe tbody tr th {\n",
       "        vertical-align: top;\n",
       "    }\n",
       "\n",
       "    .dataframe thead th {\n",
       "        text-align: right;\n",
       "    }\n",
       "</style>\n",
       "<table border=\"1\" class=\"dataframe\">\n",
       "  <thead>\n",
       "    <tr style=\"text-align: right;\">\n",
       "      <th></th>\n",
       "      <th>Odstotek brezhibnih</th>\n",
       "    </tr>\n",
       "  </thead>\n",
       "  <tbody>\n",
       "    <tr>\n",
       "      <th>2012.0</th>\n",
       "      <td>83.544304</td>\n",
       "    </tr>\n",
       "    <tr>\n",
       "      <th>2021.0</th>\n",
       "      <td>82.666667</td>\n",
       "    </tr>\n",
       "    <tr>\n",
       "      <th>1983.0</th>\n",
       "      <td>81.491003</td>\n",
       "    </tr>\n",
       "    <tr>\n",
       "      <th>2011.0</th>\n",
       "      <td>79.452055</td>\n",
       "    </tr>\n",
       "    <tr>\n",
       "      <th>1980.0</th>\n",
       "      <td>78.947368</td>\n",
       "    </tr>\n",
       "  </tbody>\n",
       "</table>\n",
       "</div>"
      ],
      "text/plain": [
       "        Odstotek brezhibnih\n",
       "2012.0            83.544304\n",
       "2021.0            82.666667\n",
       "1983.0            81.491003\n",
       "2011.0            79.452055\n",
       "1980.0            78.947368"
      ]
     },
     "execution_count": 72,
     "metadata": {},
     "output_type": "execute_result"
    }
   ],
   "source": [
    "bL = pd.DataFrame.from_dict(brezhibL, orient=\"index\")\n",
    "bL.columns = [\"Odstotek brezhibnih\"]\n",
    "bL.nlargest(5, \"Odstotek brezhibnih\")"
   ]
  },
  {
   "cell_type": "markdown",
   "id": "da566d0f",
   "metadata": {},
   "source": [
    "### Odstotek opravljenih tehničnih pregledov po desetletjih"
   ]
  },
  {
   "cell_type": "code",
   "execution_count": 6,
   "id": "9c73d816",
   "metadata": {},
   "outputs": [],
   "source": [
    "podatki1 = podatki.copy()\n",
    "datumiReg = podatki1[\"DATUM_PRVE_REGISTRACIJE\"].tolist()\n",
    "\n",
    "desetletje = []\n",
    "\n",
    "for d in datumiReg:\n",
    "    y = d.year\n",
    "    y = y - y%10\n",
    "    desetletje.append(y)\n",
    "\n",
    "\n",
    "#desetletje"
   ]
  },
  {
   "cell_type": "code",
   "execution_count": 7,
   "id": "7d3f73bc",
   "metadata": {},
   "outputs": [],
   "source": [
    "podatki1[\"DESETLETJE_REG\"] = desetletje\n",
    "podatki1OsebnaVozila = podatki1[podatki1[\"KATEGORIJA_OPIS\"] == \"osebni avtomobil\"]"
   ]
  },
  {
   "cell_type": "code",
   "execution_count": 8,
   "id": "97d50ba2",
   "metadata": {},
   "outputs": [],
   "source": [
    "count1 = podatki1OsebnaVozila[podatki1OsebnaVozila[\"TEHNICNI_PREGLED_STATUS\"] == \"brezhiben\"].groupby(\"DESETLETJE_REG\")[\"ZNAMKA\"].count()\n",
    "count2 = podatki1OsebnaVozila[podatki1OsebnaVozila[\"TEHNICNI_PREGLED_STATUS\"] != \"brezhiben\"].groupby(\"DESETLETJE_REG\")[\"ZNAMKA\"].count()"
   ]
  },
  {
   "cell_type": "code",
   "execution_count": 9,
   "id": "68db73d1",
   "metadata": {},
   "outputs": [
    {
     "data": {
      "text/plain": [
       "[0.11710677382319168,\n",
       " 0.1597069597069597,\n",
       " 0.2828331332533013,\n",
       " 0.2647725350921698,\n",
       " 0.20209059233449478]"
      ]
     },
     "execution_count": 9,
     "metadata": {},
     "output_type": "execute_result"
    }
   ],
   "source": [
    "count1l = count1.tolist()\n",
    "count2l = count2.tolist()\n",
    "\n",
    "\n",
    "# spustimo desetletja ki imajo manj kot 100 pregledov\n",
    "count1l = count1l[5:-1]\n",
    "count2l = count2l[1:-1]\n",
    "\n",
    "count1p = []\n",
    "count2p = []\n",
    "\n",
    "for x,y in zip(count1l,count2l):\n",
    "    p = x/(x+y)\n",
    "    count1p.append(p)\n",
    "    count2p.append(1-p)\n",
    "\n",
    "    \n",
    "count2p\n",
    "\n",
    "\n",
    "    "
   ]
  },
  {
   "cell_type": "code",
   "execution_count": 10,
   "id": "a4a45bf6",
   "metadata": {},
   "outputs": [
    {
     "data": {
      "image/png": "[encoded data removed]",
      "text/plain": [
       "<Figure size 432x288 with 1 Axes>"
      ]
     },
     "metadata": {
      "needs_background": "light"
     },
     "output_type": "display_data"
    }
   ],
   "source": [
    "\n",
    "labels = ['1970','1980','1990','2000','2010']\n",
    "width = 0.35\n",
    "\n",
    "fig, ax = plt.subplots()\n",
    "\n",
    "\n",
    "ax.bar(labels, count1p, width, yerr=None, label='Opravljeni')\n",
    "ax.bar(labels, count2p, width, yerr=None, bottom=count1p,\n",
    "       label='Neopravljeni')\n",
    "\n",
    "ax.set_ylabel('Odstotek opravljenih tehničnih pregledov')\n",
    "ax.set_title('Odstotek opravljenih tehničnih pregledov osebnih avtomobilov po desetletjih')\n",
    "ax.legend()\n",
    "\n",
    "plt.show()\n"
   ]
  }
 ],
 "metadata": {
  "kernelspec": {
   "display_name": "Python 3 (ipykernel)",
   "language": "python",
   "name": "python3"
  },
  "language_info": {
   "codemirror_mode": {
    "name": "ipython",
    "version": 3
   },
   "file_extension": ".py",
   "mimetype": "text/x-python",
   "name": "python",
   "nbconvert_exporter": "python",
   "pygments_lexer": "ipython3",
   "version": "3.10.0"
  }
 },
 "nbformat": 4,
 "nbformat_minor": 5
}
