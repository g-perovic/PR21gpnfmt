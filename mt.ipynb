{
 "cells": [
  {
   "cell_type": "markdown",
   "metadata": {
    "lang": "sl"
   },
   "source": [
    "### Vprašanja\n",
    "\n",
    "Glavni namen podatkovnega rudarjenja je *odkrivanje znanj iz podatkov*,\n",
    "torej odgovarjanje na vprašanja z uporabo računskih postopkov.\n",
    "\n",
    "Z uporabo principov, ki ste jih spoznali na vajah in predavanjih, odgovorite na\n",
    "spodnja vprašanja. Pri vsakem vprašanju dobro premislite, na kakšen način boste\n",
    "najbolje podali, prikazali oz. utemeljili odgovor. Bistven del so odgovori na\n",
    "vprašanja in ne implementacija vaše rešitve."
   ]
  },
  {
   "cell_type": "markdown",
   "metadata": {
    "lang": "sl"
   },
   "source": [
    "#### 1. vprašanje (15%):\n",
    "Kateri filmi so v povprečju najbolje ocenjeni?  Pripravite seznam\n",
    "filmov ter njihovih povprečnih ocen in izpišite 10 filmov z vrha seznama.\n",
    "Opazite pri takem ocenjevanju kakšno težavo? Kako bi jo lahko rešili? Kakšni so\n",
    "rezultati tedaj?\n",
    "\n",
    "Kodo lahko razdelite v več celic."
   ]
  },
  {
   "cell_type": "code",
   "execution_count": 1,
   "metadata": {},
   "outputs": [
    {
     "data": {
      "text/plain": [
       "<BarContainer object of 12 artists>"
      ]
     },
     "execution_count": 1,
     "metadata": {},
     "output_type": "execute_result"
    },
    {
     "data": {
      "image/png": "[encoded data removed]",
      "text/plain": [
       "<Figure size 1800x216 with 1 Axes>"
      ]
     },
     "metadata": {
      "needs_background": "light"
     },
     "output_type": "display_data"
    }
   ],
   "source": [
    "import matplotlib\n",
    "import matplotlib.pyplot as plt\n",
    "import numpy as np\n",
    "\n",
    "\n",
    "import pandas as pd\n",
    "import math\n",
    "\n",
    "\n",
    "podatki = pd.read_csv(\"podatki.csv\", delimiter=\";\", low_memory=False)\n",
    "\n",
    "\n",
    "test = podatki[\"DATUM_PREGLEDA\"].to_dict()\n",
    "\n",
    "temp = {}\n",
    "\n",
    "for k,v in test.items(): \n",
    "    s = v.split(\".\")[1]\n",
    "    if s in temp.keys():\n",
    "        temp[s] += 1\n",
    "    else:\n",
    "        temp[s] = 1\n",
    "    \n",
    "\n",
    "temp = dict(sorted(temp.items()))\n",
    "\n",
    "mesci = [\"januan\",\"februar\",\"marec\",\"april\",\"maj\",\"junij\",\"julij\",\"avgust\",\"september\",\"oktober\",\"november\",\"december\"]\n",
    "\n",
    "plt.figure(figsize=(25, 3))\n",
    "plt.bar(mesci, temp.values(), align='center', width=0.3)\n",
    "\n",
    "\n"
   ]
  },
  {
   "cell_type": "markdown",
   "metadata": {
    "lang": "sl"
   },
   "source": [
    "Odgovor: **zapišite utemeljitev odgovora**"
   ]
  },
  {
   "cell_type": "markdown",
   "metadata": {},
   "source": [
    "Problem je v tem, da so filmi tretirani samo glede njihove ocene, ne pa tudi število glasov. Zato pride do težave, ko so filmi z manj ocenami veliko boljše ocenjeni kot filmi z mnogo ocenami. Pomembno je razmerje med oceno in številom glasov. \n",
    "Rešitev bi bila ta, da ocene filmov zaokrožimo in nato filme z isto oceno razvrstimo še po številu ocen padajoče."
   ]
  },
  {
   "cell_type": "markdown",
   "metadata": {
    "lang": "sl"
   },
   "source": [
    "#### 2. vprašanje (15%):\n",
    "Posamezni film pripada enemu ali več žanrom. \n",
    "Koliko je vseh žanrov? Prikaži porazdelitev žanrov z uporabo ustrezne\n",
    "vizualizacije.\n",
    "\n",
    "Kodo lahko razdelite v več celic."
   ]
  },
  {
   "cell_type": "code",
   "execution_count": 2,
   "metadata": {},
   "outputs": [
    {
     "name": "stdout",
     "output_type": "stream",
     "text": [
      "       ZNAMKA DATUM_PRVE_REGISTRACIJE_SLO DATUM_PREGLEDA  PREVOZENI_KILOMETRI\n",
      "148334   SEAT                  29.08.2020     26.08.2021             212577.0 587.2292817679559\n",
      "       ZNAMKA DATUM_PRVE_REGISTRACIJE_SLO DATUM_PREGLEDA  PREVOZENI_KILOMETRI\n",
      "147143   FIAT                  13.11.2020     15.11.2021             152255.0 414.86376021798367\n",
      "       ZNAMKA DATUM_PRVE_REGISTRACIJE_SLO DATUM_PREGLEDA  PREVOZENI_KILOMETRI\n",
      "33763  TOYOTA                   1.04.2019     29.03.2021             201574.0 276.8873626373626\n",
      "               ZNAMKA DATUM_PRVE_REGISTRACIJE_SLO DATUM_PREGLEDA  \\\n",
      "211186  MERCEDES BENZ                   5.10.2010     30.09.2021   \n",
      "\n",
      "        PREVOZENI_KILOMETRI  \n",
      "211186             992611.0   247.34886618489907\n",
      "      ZNAMKA DATUM_PRVE_REGISTRACIJE_SLO DATUM_PREGLEDA  PREVOZENI_KILOMETRI\n",
      "20673    BMW                   1.03.2018      5.03.2021             265555.0 241.41363636363636\n"
     ]
    }
   ],
   "source": [
    "import matplotlib\n",
    "import matplotlib.pyplot as plt\n",
    "import numpy as np\n",
    "\n",
    "\n",
    "import pandas as pd\n",
    "import math\n",
    "\n",
    "from datetime import datetime\n",
    "\n",
    "def days_between(dR, dP):\n",
    "    dR = datetime.strptime(dR, \"%d.%m.%Y\")\n",
    "    dP = datetime.strptime(dP, \"%d.%m.%Y\")\n",
    "    return ((dP - dR).days)\n",
    "\n",
    "\n",
    "podatki = pd.read_csv(\"podatki.csv\", delimiter=\";\", low_memory=False)\n",
    "\n",
    "\n",
    "podatki[[\"DATUM_PRVE_REGISTRACIJE_SLO\",\"DATUM_PREGLEDA\",\"PREVOZENI_KILOMETRI\"]]\n",
    "\n",
    "array = {}\n",
    "amd = 0\n",
    "\n",
    "for ind in podatki.index:\n",
    "    datum_reg = podatki['DATUM_PRVE_REGISTRACIJE_SLO'][ind]\n",
    "    datum_preg = podatki['DATUM_PREGLEDA'][ind]\n",
    "    kil = podatki['PREVOZENI_KILOMETRI'][ind]\n",
    "\n",
    "    if math.isnan(kil) or kil > 1000000:\n",
    "        continue\n",
    "\n",
    "    if isinstance(datum_preg,str) and isinstance(datum_reg,str) :\n",
    "        dnevi = days_between(datum_reg, datum_preg)\n",
    "        if dnevi <= 0:\n",
    "            continue\n",
    "        else:\n",
    "            temp = kil / dnevi\n",
    "\n",
    "        array[ind] = temp\n",
    "\n",
    "my_keys = sorted(array, key=array.get, reverse=True)[:5]\n",
    "#print(my_keys)\n",
    "for i in my_keys:\n",
    "    print(podatki.loc[[i]][[\"ZNAMKA\", 'DATUM_PRVE_REGISTRACIJE_SLO', 'DATUM_PREGLEDA', 'PREVOZENI_KILOMETRI']], array[i])\n",
    "\n",
    "\n"
   ]
  },
  {
   "cell_type": "markdown",
   "metadata": {
    "lang": "sl"
   },
   "source": [
    "Odgovor: **zapišite utemeljitev odgovora**"
   ]
  },
  {
   "cell_type": "markdown",
   "metadata": {
    "lang": "sl"
   },
   "source": [
    "#### 3. vprašanje (20%):\n",
    "Število ocen (ogledov) se za posamezni film razlikuje. Ali\n",
    "obstaja povezava med gledanostjo in povprečno oceno filma? Opišite postopek, ki\n",
    "ste ga uporabili pri odgovarjanju na vprašanje.\n",
    "\n",
    "Kodo lahko razdelite v več celic."
   ]
  },
  {
   "cell_type": "code",
   "execution_count": 3,
   "metadata": {},
   "outputs": [
    {
     "ename": "FileNotFoundError",
     "evalue": "[Errno 2] No such file or directory: 'podatki/ml-latest-small/ratings.csv'",
     "output_type": "error",
     "traceback": [
      "\u001b[1;31m---------------------------------------------------------------------------\u001b[0m",
      "\u001b[1;31mFileNotFoundError\u001b[0m                         Traceback (most recent call last)",
      "\u001b[1;32mc:\\Users\\tomaz\\Documents\\Faks\\2 letnik\\2sem\\Pr\\Domače Naloge\\1\\PR21gpnfmt\\n1-sl.ipynb Cell 10'\u001b[0m in \u001b[0;36m<cell line: 5>\u001b[1;34m()\u001b[0m\n\u001b[0;32m      <a href='vscode-notebook-cell:/c%3A/Users/tomaz/Documents/Faks/2%20letnik/2sem/Pr/Doma%C4%8De%20Naloge/1/PR21gpnfmt/n1-sl.ipynb#ch0000009?line=1'>2</a>\u001b[0m \u001b[39mfrom\u001b[39;00m \u001b[39mcsv\u001b[39;00m \u001b[39mimport\u001b[39;00m DictReader\n\u001b[0;32m      <a href='vscode-notebook-cell:/c%3A/Users/tomaz/Documents/Faks/2%20letnik/2sem/Pr/Doma%C4%8De%20Naloge/1/PR21gpnfmt/n1-sl.ipynb#ch0000009?line=2'>3</a>\u001b[0m \u001b[39mimport\u001b[39;00m \u001b[39mmath\u001b[39;00m\n\u001b[1;32m----> <a href='vscode-notebook-cell:/c%3A/Users/tomaz/Documents/Faks/2%20letnik/2sem/Pr/Doma%C4%8De%20Naloge/1/PR21gpnfmt/n1-sl.ipynb#ch0000009?line=4'>5</a>\u001b[0m readerR \u001b[39m=\u001b[39m DictReader(\u001b[39mopen\u001b[39;49m(\u001b[39m'\u001b[39;49m\u001b[39mpodatki/ml-latest-small/ratings.csv\u001b[39;49m\u001b[39m'\u001b[39;49m, \u001b[39m'\u001b[39;49m\u001b[39mrt\u001b[39;49m\u001b[39m'\u001b[39;49m, encoding\u001b[39m=\u001b[39;49m\u001b[39m'\u001b[39;49m\u001b[39mutf-8\u001b[39;49m\u001b[39m'\u001b[39;49m))\n\u001b[0;32m      <a href='vscode-notebook-cell:/c%3A/Users/tomaz/Documents/Faks/2%20letnik/2sem/Pr/Doma%C4%8De%20Naloge/1/PR21gpnfmt/n1-sl.ipynb#ch0000009?line=6'>7</a>\u001b[0m dictRating \u001b[39m=\u001b[39m {}\n\u001b[0;32m      <a href='vscode-notebook-cell:/c%3A/Users/tomaz/Documents/Faks/2%20letnik/2sem/Pr/Doma%C4%8De%20Naloge/1/PR21gpnfmt/n1-sl.ipynb#ch0000009?line=8'>9</a>\u001b[0m \u001b[39mfor\u001b[39;00m row \u001b[39min\u001b[39;00m readerR:\n",
      "\u001b[1;31mFileNotFoundError\u001b[0m: [Errno 2] No such file or directory: 'podatki/ml-latest-small/ratings.csv'"
     ]
    }
   ],
   "source": [
    "import matplotlib.pyplot as plt \n",
    "from csv import DictReader\n",
    "import math\n",
    "\n",
    "readerR = DictReader(open('podatki/ml-latest-small/ratings.csv', 'rt', encoding='utf-8'))\n",
    "\n",
    "dictRating = {}\n",
    "\n",
    "for row in readerR:\n",
    "    if row[\"movieId\"] in dictRating.keys():\n",
    "            dictRating[row[\"movieId\"]][0] += float(row[\"rating\"])\n",
    "            dictRating[row[\"movieId\"]][1] += 1\n",
    "    else:\n",
    "        dictRating[row[\"movieId\"]] = [float(row[\"rating\"]),1]\n",
    "\n",
    "maxCount = max(dictRating.items(), key=lambda item: item[1][1])[1][1]\n",
    "\n",
    "ratingArray = [[0,0],[0,0],[0,0],[0,0],[0,0],[0,0],[0,0],[0,0],[0,0],[0,0]]\n",
    "divider = (maxCount+1)/10\n",
    "for key, value in dictRating.items():\n",
    "        temp = math.floor(value[1]/divider)\n",
    "        ratingArray[temp][0] += value[0]\n",
    "        ratingArray[temp][1] += value[1]\n",
    "\n",
    "c = [0]\n",
    "for i in range(1,10):\n",
    "        c.append((int(i*divider)))\n",
    "\n",
    "newArray = [el[0]/el[1] for el in ratingArray]\n",
    "\n",
    "\n",
    "plt.plot(c, newArray)\n",
    "plt.show()\n"
   ]
  },
  {
   "cell_type": "markdown",
   "metadata": {
    "lang": "sl"
   },
   "source": [
    "Odgovor: **zapišite utemeljitev odgovora**"
   ]
  },
  {
   "cell_type": "markdown",
   "metadata": {},
   "source": [
    "Kot je razvidno iz grafa je povprečna ocena filma višja bolj kot je film popularen. To je smiselno, saj boljši filmi bodo dobili več ocen kot slabši."
   ]
  },
  {
   "cell_type": "markdown",
   "metadata": {
    "lang": "sl"
   },
   "source": [
    "#### 4. vprašanje (30%):\n",
    "Vsaka ocena je bila vnešena na določen datum (stolpec\n",
    "*timestamp*).  Ali se popularnost posameznih filmov s časom spreminja?\n",
    "Problem reši tako, da za dani film ocene razporediš po času ter v vsaku časovni\n",
    "točki izračunaš povprečje za zadnjih 30, 50, ali 100 ocen. Nariši graf, kako se\n",
    "ocena spreminja in ga prikaži za dva zanimiva primera filmov.\n",
    "\n",
    "Kodo lahko razdelite v več celic."
   ]
  },
  {
   "cell_type": "code",
   "execution_count": null,
   "metadata": {},
   "outputs": [],
   "source": [
    "from csv import DictReader\n",
    "\n",
    "\n",
    "\n",
    "readerM = DictReader(open('podatki/ml-latest-small/movies.csv', 'rt', encoding='utf-8'))\n",
    "readerR = DictReader(open('podatki/ml-latest-small/ratings.csv', 'rt', encoding='utf-8'))\n",
    "\n",
    "rowsM = []\n",
    "for row in readerM:\n",
    "        rowsM.append(row)\n",
    "\n",
    "movieD = {}\n",
    "\n",
    "for r in rowsM:\n",
    "    movieD[r[\"movieId\"]] = [r[\"title\"],[]] #prva je ocena, druga je timestamp\n",
    "\n",
    "rowsR = []\n",
    "for row in readerR:\n",
    "    rowsR.append(row)\n",
    "\n",
    "\n",
    "for r in rowsR:\n",
    "    movieD[r[\"movieId\"]][1].append((r[\"rating\"],r[\"timestamp\"]))\n",
    "\n",
    "for key, value in movieD.items():\n",
    "    value[1].sort(key=lambda x: x[1])\n",
    "\n",
    "lastMovies = 100\n",
    "\n",
    "def movieGraph (id):\n",
    "    t = movieD[id][1] #1, 2571\n",
    "\n",
    "    avgRatingArr = []\n",
    "    timestampArr = []\n",
    "    for i in range(lastMovies,len(t)):\n",
    "        tempSum = 0.0\n",
    "        for a in t[i-lastMovies:i]:\n",
    "            tempSum += float(a[0])\n",
    "        avg = tempSum/lastMovies\n",
    "        avgRatingArr.append(avg)\n",
    "        timestampArr.append(t[i][1])\n",
    "\n",
    "    plt.plot(timestampArr, avgRatingArr)\n",
    "    plt.show()\n",
    "\n",
    "print(\"Toy Story (1995)\")\n",
    "movieGraph('1')\n",
    "print(\"Die hard (1988)\")\n",
    "movieGraph('1036')\n",
    "\n"
   ]
  },
  {
   "cell_type": "markdown",
   "metadata": {
    "lang": "sl"
   },
   "source": [
    "Odgovor: **zapišite utemeljitev odgovora**"
   ]
  },
  {
   "cell_type": "markdown",
   "metadata": {},
   "source": [
    "V vsaki točki grafa prikazujeta povprečno oceno prejšnjih 100 ocen. Iz tega je razvidno, da so se povprečne ocene filmo spreminjale. Npr. Toy Story (1995) je začel popularen nato je nekoliko zanihal in proti koncu postane spet bolj popularen."
   ]
  },
  {
   "cell_type": "markdown",
   "metadata": {
    "lang": "sl"
   },
   "source": [
    "#### 5. vprašanje (20%):\n",
    "Kako bi ocenili popularnost posameznih igralcev? Opišite postopek\n",
    "ocenitve ter izpišite 10 najbolj popularnih igralcev.\n",
    "\n",
    "Kodo lahko razdelite v več celic."
   ]
  },
  {
   "cell_type": "code",
   "execution_count": null,
   "metadata": {},
   "outputs": [],
   "source": [
    "from csv import DictReader\n",
    "\n",
    "\n",
    "\n",
    "readerC = DictReader(open('podatki/ml-latest-small/cast.csv', 'rt', encoding='utf-8'))\n",
    "readerR = DictReader(open('podatki/ml-latest-small/ratings.csv', 'rt', encoding='utf-8'))\n",
    "\n",
    "rowsC = []\n",
    "for row in readerC:\n",
    "        rowsC.append(row)\n",
    "\n",
    "\n",
    "rowsR = []\n",
    "for row in readerR:\n",
    "        rowsR.append(row)\n",
    "\n",
    "ratingDict = {}\n",
    "\n",
    "for r in rowsR:\n",
    "    if r[\"movieId\"] in ratingDict.keys():\n",
    "        ratingDict[r[\"movieId\"]] += 1\n",
    "    else:\n",
    "        ratingDict[r[\"movieId\"]] = 1\n",
    "\n",
    "\n",
    "castDict = {}\n",
    "castRatingDict = {}\n",
    "\n",
    "for r in rowsC:\n",
    "    for a in filter(None,r[\"cast\"].split(\"|\")):\n",
    "        castRatingDict[a] = 0\n",
    "        if a in castDict.keys():\n",
    "            castDict[a].append(r[\"movieId\"])\n",
    "        else:\n",
    "            castDict[a] = [r[\"movieId\"]]\n",
    "\n",
    "for key, value in castDict.items():\n",
    "    temp = 0\n",
    "    for movie in value:\n",
    "        if movie in ratingDict.keys():\n",
    "            temp += int(ratingDict[movie])\n",
    "    castRatingDict[key] = temp\n",
    "\n",
    "a = {k: v for k, v in sorted(castRatingDict.items(), key=lambda item: item[1], reverse=True)}\n",
    "\n",
    "print(list(a.items())[:10])"
   ]
  },
  {
   "cell_type": "markdown",
   "metadata": {
    "lang": "sl"
   },
   "source": [
    "Odgovor: **zapišite utemeljitev odgovora**"
   ]
  },
  {
   "cell_type": "markdown",
   "metadata": {},
   "source": [
    "Popularnost igralcev sem ocenil po številu ocen, ki so jih prejeli filmi v katerih so igrali. To se mi je zdelo smiselno, saj za popularnost je pomembno število ocen filma in ne pa povprečna ocena. Npr. igralec ki igra v enem filmu z oceno 5 bo imel povprpečno oceno 5 in je mnogo manj popularen kot nekdo, ki ima povprečno oceno 4.99 in igra v 1000 filmih."
   ]
  },
  {
   "cell_type": "markdown",
   "metadata": {
    "lang": "sl"
   },
   "source": [
    "#### Bonus vprašanje (5%):\n",
    "\n",
    "Kateri je tvoj najljubši film? Zakaj?"
   ]
  },
  {
   "cell_type": "markdown",
   "metadata": {
    "lang": "sl"
   },
   "source": [
    "Odgovor: **zapišite utemeljitev odgovora**"
   ]
  },
  {
   "cell_type": "markdown",
   "metadata": {},
   "source": [
    "China salesman (2017), ker igrata Mike Tyson in Steven Seagal."
   ]
  },
  {
   "cell_type": "markdown",
   "metadata": {
    "lang": "sl"
   },
   "source": [
    "### Zapiski\n",
    "Za nalaganje podatkov lahko uporabite modul `csv`."
   ]
  },
  {
   "cell_type": "code",
   "execution_count": null,
   "metadata": {},
   "outputs": [],
   "source": [
    "from csv import DictReader\n",
    "\n",
    "reader = DictReader(open('podatki/ml-latest-small/ratings.csv', 'rt', encoding='utf-8'))\n",
    "for row in reader:\n",
    "    user = row[\"userId\"]\n",
    "    movie = row[\"movieId\"]\n",
    "    rating = row[\"rating\"]\n",
    "    timestamp = row[\"timestamp\"]"
   ]
  },
  {
   "cell_type": "markdown",
   "metadata": {
    "lang": "sl"
   },
   "source": [
    "Podatki v zadnji vrstici datoteke:"
   ]
  },
  {
   "cell_type": "code",
   "execution_count": null,
   "metadata": {},
   "outputs": [],
   "source": [
    "user, movie, rating, timestamp"
   ]
  },
  {
   "cell_type": "markdown",
   "metadata": {
    "lang": "sl"
   },
   "source": [
    "Pretvorba časovnega formata (*Unix time*). Kode za oblikovanje so navedene v dokumentaciji modula [`datetime`](https://docs.python.org/3/library/datetime.html#strftime-and-strptime-behavior)."
   ]
  },
  {
   "cell_type": "code",
   "execution_count": null,
   "metadata": {},
   "outputs": [],
   "source": [
    "from datetime import datetime\n",
    "\n",
    "t = 1217897793 # Unix-time\n",
    "ts = datetime.fromtimestamp(t).strftime('%Y-%m-%d %H:%M')\n",
    "ts"
   ]
  },
  {
   "cell_type": "markdown",
   "metadata": {},
   "source": [
    "oldtimerji"
   ]
  },
  {
   "cell_type": "code",
   "execution_count": 5,
   "metadata": {},
   "outputs": [
    {
     "data": {
      "text/plain": [
       "<function matplotlib.pyplot.show(close=None, block=None)>"
      ]
     },
     "execution_count": 5,
     "metadata": {},
     "output_type": "execute_result"
    },
    {
     "data": {
      "image/png": "[encoded data removed]",
      "text/plain": [
       "<Figure size 1008x576 with 1 Axes>"
      ]
     },
     "metadata": {
      "needs_background": "light"
     },
     "output_type": "display_data"
    }
   ],
   "source": [
    "podatki[\"DATUM_PRVE_REGISTRACIJE\"] = pd.to_datetime(podatki[\"DATUM_PRVE_REGISTRACIJE\"], infer_datetime_format=True)\n",
    "podatki[\"DATUM_PRVE_REGISTRACIJE_SLO\"] = pd.to_datetime(podatki[\"DATUM_PRVE_REGISTRACIJE_SLO\"], infer_datetime_format=True)\n",
    "podatki[\"DATUM_PREGLEDA\"] = pd.to_datetime(podatki[\"DATUM_PREGLEDA\"], infer_datetime_format=True)\n",
    "\n",
    "podatki['diff_years'] = (podatki['DATUM_PREGLEDA'] - podatki['DATUM_PRVE_REGISTRACIJE']) / np.timedelta64(1, 'Y')\n",
    "\n",
    "oldtimerji = podatki[podatki[\"diff_years\"] >= 30]\n",
    "\n",
    "oldtimerjiBrezhibni = max(oldtimerji[oldtimerji[\"TEHNICNI_PREGLED_STATUS\"] == \"brezhiben\"].count())\n",
    "\n",
    "oldtimerjiOstali = max(oldtimerji.count() - oldtimerjiBrezhibni)\n",
    "\n",
    "procentOldtimerji = oldtimerjiBrezhibni/(oldtimerjiBrezhibni+oldtimerjiOstali)\n",
    "\n",
    "neOldtimerji = podatki[podatki[\"diff_years\"] < 30]\n",
    "\n",
    "neOldtimerjiBrezhibni = max(neOldtimerji[neOldtimerji[\"TEHNICNI_PREGLED_STATUS\"] == \"brezhiben\"].count())\n",
    "\n",
    "neOldtimerjiOstali = max(neOldtimerji.count() - neOldtimerjiBrezhibni)\n",
    "\n",
    "procentNeOldtimerji= neOldtimerjiBrezhibni/(neOldtimerjiBrezhibni+neOldtimerjiOstali)\n",
    "\n",
    "\n",
    "fig = plt.figure(figsize=(14,8))\n",
    "plt.bar([\"Oldtimerji\", \"Ostali\"], [procentOldtimerji, procentNeOldtimerji])\n",
    "plt.ylabel(\"Odstotek brezhibnih tehničnih pregledov\")\n",
    "plt.title(\"Odstotek brezhibnih tehničnih pregledov glede na oldtimerje in vse ostale\")\n",
    "plt.ylim(0,1)\n",
    "plt.show\n"
   ]
  }
 ],
 "metadata": {
  "kernelspec": {
   "display_name": "Python 3",
   "language": "python",
   "name": "python3"
  },
  "language_info": {
   "codemirror_mode": {
    "name": "ipython",
    "version": 3
   },
   "file_extension": ".py",
   "mimetype": "text/x-python",
   "name": "python",
   "nbconvert_exporter": "python",
   "pygments_lexer": "ipython3",
   "version": "3.10.0"
  },
  "latex_envs": {
   "LaTeX_envs_menu_present": true,
   "autocomplete": true,
   "bibliofile": "biblio.bib",
   "cite_by": "apalike",
   "current_citInitial": 1,
   "eqLabelWithNumbers": true,
   "eqNumInitial": 1,
   "hotkeys": {
    "equation": "Ctrl-E",
    "itemize": "Ctrl-I"
   },
   "labels_anchors": false,
   "latex_user_defs": false,
   "report_style_numbering": false,
   "user_envs_cfg": false
  },
  "nbTranslate": {
   "displayLangs": [
    "sl"
   ],
   "hotkey": "alt-t",
   "langInMainMenu": true,
   "sourceLang": "sl",
   "targetLang": "en",
   "useGoogleTranslate": true
  }
 },
 "nbformat": 4,
 "nbformat_minor": 2
}
